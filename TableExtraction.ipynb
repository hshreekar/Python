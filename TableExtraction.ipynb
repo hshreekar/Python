{
 "cells": [
  {
   "cell_type": "code",
   "execution_count": 7,
   "id": "58276679",
   "metadata": {},
   "outputs": [],
   "source": [
    "import camelot"
   ]
  },
  {
   "cell_type": "code",
   "execution_count": 51,
   "id": "ec6a056b",
   "metadata": {},
   "outputs": [],
   "source": [
    "\n",
    "\n",
    "class TableExtraction:\n",
    "    def __init__(self):\n",
    "        self.check_library()\n",
    "        return None\n",
    "    def check_library(self):\n",
    "        try:\n",
    "            import camelot\n",
    "            print(\"camelot is installed , make sure ghostScript is installed for the project to work\")\n",
    "            return \n",
    "        except error as e:\n",
    "            print(e)\n",
    "    def extract(self,path,pswd=None,process_bg=True):\n",
    "        if(pswd):\n",
    "            tables=camelot.read_pdf(path,password=pswd,process_background=process_bg)\n",
    "        else:\n",
    "            tables=camelot.read_pdf(path,process_background=process_bg)\n",
    "        dcntry={}\n",
    "        metrics={}\n",
    "        #print(type(tables[0].df))\n",
    "        for i in range(len(tables)):\n",
    "            dcntry[i]=tables[i].df.to_dict()\n",
    "            metrics[i]=tables[i].parsing_report\n",
    "            #print(metrics)\n",
    "            \n",
    "        return (dcntry,metrics)"
   ]
  },
  {
   "cell_type": "code",
   "execution_count": 52,
   "id": "053b7167",
   "metadata": {},
   "outputs": [
    {
     "name": "stdout",
     "output_type": "stream",
     "text": [
      "camelot is installed , make sure ghostScript is installed for the project to work\n"
     ]
    }
   ],
   "source": [
    "credit_report='./Downloads/3610XXXXXXXX76_15-07-2022.pdf'\n",
    "password=\"password\"\n",
    "a=TableExtraction()\n",
    "# creae an object of class table Extraction"
   ]
  },
  {
   "cell_type": "code",
   "execution_count": 53,
   "id": "aa6b3901",
   "metadata": {},
   "outputs": [],
   "source": [
    "dcntry,metrics=a.extract(credit_report,password)\n",
    "# use the camelot library to extract tables from the pdf and return it as dictionaries \n"
   ]
  },
  {
   "cell_type": "code",
   "execution_count": null,
   "id": "2e17bb80",
   "metadata": {},
   "outputs": [],
   "source": []
  },
  {
   "cell_type": "code",
   "execution_count": null,
   "id": "02002784",
   "metadata": {},
   "outputs": [],
   "source": []
  }
 ],
 "metadata": {
  "kernelspec": {
   "display_name": "Python 3 (ipykernel)",
   "language": "python",
   "name": "python3"
  },
  "language_info": {
   "codemirror_mode": {
    "name": "ipython",
    "version": 3
   },
   "file_extension": ".py",
   "mimetype": "text/x-python",
   "name": "python",
   "nbconvert_exporter": "python",
   "pygments_lexer": "ipython3",
   "version": "3.10.5"
  }
 },
 "nbformat": 4,
 "nbformat_minor": 5
}
